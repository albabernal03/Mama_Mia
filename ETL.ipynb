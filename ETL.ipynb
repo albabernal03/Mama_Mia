{
 "cells": [
  {
   "cell_type": "code",
   "execution_count": null,
   "id": "f26cddf7",
   "metadata": {
    "vscode": {
     "languageId": "plaintext"
    }
   },
   "outputs": [],
   "source": [
    "import os\n",
    "from dotenv import load_dotenv\n",
    "import synapseclient\n",
    "from synapseclient import File\n",
    "\n",
    "def download_all_files(syn, parent_id, local_dir):\n",
    "    os.makedirs(local_dir, exist_ok=True)\n",
    "    children = list(syn.getChildren(parent_id))\n",
    "    \n",
    "    for item in children:\n",
    "        item_name = item['name']\n",
    "        item_id = item['id']\n",
    "        item_type = item['type']\n",
    "        local_path = os.path.join(local_dir, item_name)\n",
    "\n",
    "        if item_type == 'org.sagebionetworks.repo.model.FileEntity':\n",
    "            print(f\"🔽 Descargando archivo: {item_name}\")\n",
    "            entity = syn.get(item_id, downloadLocation=local_dir)\n",
    "            print(\"✅ Guardado en:\", entity.path)\n",
    "        elif item_type == 'org.sagebionetworks.repo.model.Folder':\n",
    "            print(f\"📂 Entrando en carpeta: {item_name}\")\n",
    "            download_all_files(syn, item_id, local_path)\n",
    "\n",
    "# Cargar token\n",
    "load_dotenv()\n",
    "token = os.getenv(\"SYNAPSE_TOKEN\")\n",
    "\n",
    "# Conectar con Synapse\n",
    "syn = synapseclient.Synapse()\n",
    "syn.login(authToken=token)\n",
    "\n",
    "# ID del proyecto\n",
    "project_id = \"syn60868042\"\n",
    "\n",
    "# Descargar todo\n",
    "download_all_files(syn, project_id, \"./datos\")\n"
   ]
  }
 ],
 "metadata": {
  "language_info": {
   "name": "python"
  }
 },
 "nbformat": 4,
 "nbformat_minor": 5
}
